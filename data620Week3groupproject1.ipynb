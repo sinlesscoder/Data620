{
 "cells": [
  {
   "cell_type": "markdown",
   "id": "898a5a11",
   "metadata": {},
   "source": [
    "# Data 620 - Week3 Group Project #1\n",
    "\n",
    "# Team Members\n",
    "* # Ahm Hamza, Ali Ahmed, Nilsa Bermudez, Ursula Podosenin\n",
    "\n",
    "\n",
    "# Overview"
   ]
  },
  {
   "cell_type": "code",
   "execution_count": 49,
   "id": "ea78da07",
   "metadata": {},
   "outputs": [],
   "source": [
    "import pandas as pd\n",
    "import numpy as np\n",
    "import networkx as nx\n",
    "from sklearn.metrics.pairwise import cosine_similarity\n",
    "from scipy.stats import ttest_ind\n",
    "import matplotlib.pyplot as plt\n",
    "import seaborn as sns\n",
    "import networkx as nx\n"
   ]
  },
  {
   "cell_type": "code",
   "execution_count": 50,
   "id": "390b2fa2",
   "metadata": {},
   "outputs": [],
   "source": [
    "members = pd.read_csv(\"https://raw.githubusercontent.com/nilsabermudez/Data620/main/Week3/HS116_members.csv\")\n",
    "votes = pd.read_csv(\"https://raw.githubusercontent.com/nilsabermudez/Data620/main/Week3/HS116_votes.csv\")\n",
    "\n",
    "votes_small = votes.head(1000)\n",
    "\n",
    "top_icpsr = votes_small['icpsr'].unique()\n",
    "\n",
    "members_small = members[members['icpsr'].isin(top_icpsr)]"
   ]
  },
  {
   "cell_type": "code",
   "execution_count": 51,
   "id": "291bca55",
   "metadata": {},
   "outputs": [
    {
     "name": "stdout",
     "output_type": "stream",
     "text": [
      "Index(['congress', 'chamber', 'icpsr', 'state_icpsr', 'district_code',\n",
      "       'state_abbrev', 'party_code', 'occupancy', 'last_means', 'bioname',\n",
      "       'bioguide_id', 'born', 'died', 'nominate_dim1', 'nominate_dim2',\n",
      "       'nominate_log_likelihood', 'nominate_geo_mean_probability',\n",
      "       'nominate_number_of_votes', 'nominate_number_of_errors', 'conditional',\n",
      "       'nokken_poole_dim1', 'nokken_poole_dim2'],\n",
      "      dtype='object')\n",
      "0      200\n",
      "1      100\n",
      "2      200\n",
      "3      200\n",
      "4      200\n",
      "      ... \n",
      "445    200\n",
      "446    200\n",
      "447    200\n",
      "449    100\n",
      "450    200\n",
      "Name: party_code, Length: 434, dtype: int64\n"
     ]
    }
   ],
   "source": [
    "# First look at the data\n",
    "print(members_small.keys())\n",
    "#print(votes_small.head())\n",
    "\n",
    "print(members_small['party_code'])"
   ]
  },
  {
   "cell_type": "markdown",
   "id": "c98d2850",
   "metadata": {},
   "source": [
    "# Convert Votes from Text to Number"
   ]
  },
  {
   "cell_type": "code",
   "execution_count": 52,
   "id": "fa7176de",
   "metadata": {},
   "outputs": [
    {
     "name": "stderr",
     "output_type": "stream",
     "text": [
      "C:\\Users\\oracl\\AppData\\Local\\Temp\\ipykernel_36476\\2862028671.py:12: FutureWarning: DataFrame.applymap has been deprecated. Use DataFrame.map instead.\n",
      "  vote_matrix = votes_small.set_index('icpsr').applymap(lambda x: vote_map.get(x, 0))\n"
     ]
    }
   ],
   "source": [
    "vote_counts = votes_small.notna().sum(axis=1)\n",
    "\n",
    "top_voters = vote_counts.sort_values(ascending=False).head(500).index\n",
    "\n",
    "vote_matrix_small = votes_small.loc[top_voters]\n",
    "\n",
    "vote_map = {\n",
    "    'Yea': 1, 'Aye': 1, 'Yes': 1,\n",
    "    'Nay': -1, 'No': -1,\n",
    "    'Present': 0, 'Not Voting': 0, 'Abstain': 0\n",
    "}\n",
    "vote_matrix = votes_small.set_index('icpsr').applymap(lambda x: vote_map.get(x, 0))"
   ]
  },
  {
   "cell_type": "markdown",
   "id": "b28a2fa2",
   "metadata": {},
   "source": [
    "# Compute Cosine Similarity Between Members"
   ]
  },
  {
   "cell_type": "code",
   "execution_count": 53,
   "id": "a4777994",
   "metadata": {},
   "outputs": [],
   "source": [
    "similarity = cosine_similarity(vote_matrix)\n",
    "\n",
    "sim_matrix = cosine_similarity(vote_matrix)\n",
    "sim_df = pd.DataFrame(sim_matrix, index=vote_matrix.index, columns=vote_matrix.index)\n",
    "sim_df.index.name = None\n",
    "sim_df.columns.name = None\n",
    "\n"
   ]
  },
  {
   "cell_type": "markdown",
   "id": "20cff54a",
   "metadata": {},
   "source": [
    "# Create Edge Lst "
   ]
  },
  {
   "cell_type": "code",
   "execution_count": 54,
   "id": "7954f84b",
   "metadata": {},
   "outputs": [],
   "source": [
    "edges = sim_df.stack().reset_index()\n",
    "edges.columns = ['source', 'target', 'weight']\n",
    "edges = edges[edges['source'] < edges['target']]\n",
    "edges = edges[edges['weight'] > 0.3]"
   ]
  },
  {
   "cell_type": "markdown",
   "id": "1c5e8474",
   "metadata": {},
   "source": [
    "#  Build the Network Graph"
   ]
  },
  {
   "cell_type": "code",
   "execution_count": 55,
   "id": "8431f492",
   "metadata": {},
   "outputs": [
    {
     "name": "stdout",
     "output_type": "stream",
     "text": [
      "Graph has 434 nodes and 0 edges\n"
     ]
    }
   ],
   "source": [
    "G = nx.Graph()\n",
    "\n",
    "party_map = {\n",
    "    100: 'Democrat',\n",
    "    200: 'Republican',\n",
    "    328: 'Independent'\n",
    "}\n",
    "\n",
    "members['current_party'] = members['party_code'].map(party_map).fillna('Other')\n",
    "party_dict = members.set_index('icpsr')['current_party'].to_dict()\n",
    "\n",
    "for node in vote_matrix.index:\n",
    "    G.add_node(node, party=party_dict.get(node, 'Unknown'))\n",
    "\n",
    "G.add_weighted_edges_from(edges[['source', 'target', 'weight']].itertuples(index=False))\n",
    "\n",
    "print(f\"Graph has {G.number_of_nodes()} nodes and {G.number_of_edges()} edges\")\n"
   ]
  },
  {
   "cell_type": "markdown",
   "id": "d679f1dd",
   "metadata": {},
   "source": [
    "# Calculate Centrality Measures"
   ]
  },
  {
   "cell_type": "code",
   "execution_count": 56,
   "id": "8f10a63f",
   "metadata": {},
   "outputs": [],
   "source": [
    "# Compute centralities\n",
    "deg_cent = nx.degree_centrality(G)\n",
    "eig_cent = nx.eigenvector_centrality(G, weight='weight', max_iter=3000)\n",
    "\n",
    "# Create DataFrame using icpsr as key\n",
    "centrality_df = pd.DataFrame({\n",
    "    'icpsr': list(deg_cent.keys()),\n",
    "    'degree_centrality': list(deg_cent.values()),\n",
    "    'eigenvector_centrality': list(eig_cent.values())\n",
    "})\n",
    "\n",
    "# Merge with members to get party and name info\n",
    "centrality_df = centrality_df.merge(\n",
    "    members[['icpsr', 'bioname', 'current_party']],\n",
    "    on='icpsr',\n",
    "    how='left'\n",
    ")\n",
    "\n",
    "# Optional: rename bioname to name for clarity\n",
    "centrality_df = centrality_df.rename(columns={'bioname': 'name'})\n"
   ]
  },
  {
   "cell_type": "markdown",
   "id": "c1896f21",
   "metadata": {},
   "source": [
    "# Summary Statistics by Party"
   ]
  },
  {
   "cell_type": "code",
   "execution_count": 57,
   "id": "1e2b0011",
   "metadata": {},
   "outputs": [
    {
     "name": "stdout",
     "output_type": "stream",
     "text": [
      "              degree_centrality                                     \\\n",
      "                          count mean  std  min  25%  50%  75%  max   \n",
      "current_party                                                        \n",
      "Democrat                  235.0  0.0  0.0  0.0  0.0  0.0  0.0  0.0   \n",
      "Republican                199.0  0.0  0.0  0.0  0.0  0.0  0.0  0.0   \n",
      "\n",
      "              eigenvector_centrality                                    \\\n",
      "                               count      mean           std       min   \n",
      "current_party                                                            \n",
      "Democrat                       235.0  0.048002  6.953705e-18  0.048002   \n",
      "Republican                     199.0  0.048002  6.956394e-18  0.048002   \n",
      "\n",
      "                                                       \n",
      "                    25%       50%       75%       max  \n",
      "current_party                                          \n",
      "Democrat       0.048002  0.048002  0.048002  0.048002  \n",
      "Republican     0.048002  0.048002  0.048002  0.048002  \n"
     ]
    }
   ],
   "source": [
    "summary_stats = centrality_df.groupby('current_party')[['degree_centrality', 'eigenvector_centrality']].describe()\n",
    "print(summary_stats)\n"
   ]
  }
 ],
 "metadata": {
  "kernelspec": {
   "display_name": "Python 3",
   "language": "python",
   "name": "python3"
  },
  "language_info": {
   "codemirror_mode": {
    "name": "ipython",
    "version": 3
   },
   "file_extension": ".py",
   "mimetype": "text/x-python",
   "name": "python",
   "nbconvert_exporter": "python",
   "pygments_lexer": "ipython3",
   "version": "3.11.9"
  }
 },
 "nbformat": 4,
 "nbformat_minor": 5
}
